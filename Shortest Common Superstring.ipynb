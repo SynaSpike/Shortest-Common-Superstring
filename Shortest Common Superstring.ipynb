{
 "cells": [
  {
   "cell_type": "markdown",
   "id": "6ed74130",
   "metadata": {},
   "source": [
    "# Algorithms in Computational Biology | Diego Serra\n",
    "# Assignment 2: Shortest Common Superstring"
   ]
  },
  {
   "cell_type": "markdown",
   "id": "9790f054",
   "metadata": {},
   "source": [
    "## Question 1: Write SSS function"
   ]
  },
  {
   "cell_type": "markdown",
   "id": "cd88557a",
   "metadata": {},
   "source": [
    "The main task we are asked is to write a function SSS that takes a list of subsequences and returns the shortest common superstring of all the input strings using DP.  \n",
    "In the book, we have seen that a greedy algorithm could give perhaps not the best but an efficient algorithm.  \n",
    "The basic principle of the algorithm lays on the idea that we look for the best binary combination, then we take  \n",
    "the shortest superstring containing the pair of strings and finally we recompute all combination with this new string."
   ]
  },
  {
   "cell_type": "markdown",
   "id": "7fd55cba",
   "metadata": {},
   "source": [
    "Therefore, my work will be divided in 4 main steps: \n",
    "\n",
    "    1) Create a function that will find the shortest common superstring for two strings.\n",
    "\n",
    "    2) Create a function that will store all the combinantion between the subsequences.\n",
    "\n",
    "    3) Create a function that will select the best possible combinatin (basis of the GREEDY algorithm).\n",
    "\n",
    "    4) Finally create the SSS function that will returns the shortest common superstring for a list of subsequences."
   ]
  },
  {
   "cell_type": "markdown",
   "id": "4957041e",
   "metadata": {},
   "source": [
    "### First Step: Shortest Superstring between two strings "
   ]
  },
  {
   "cell_type": "code",
   "execution_count": 9,
   "id": "14547fc4",
   "metadata": {},
   "outputs": [],
   "source": [
    "def ShortestSuperstring (s1, s2, memory = {}): \n",
    "    \"\"\" This function uses recursion to return the shortest superstring between s1 and s2.\n",
    "        ::param:: s1, s2 are strings (e.g., DNA).\n",
    "        ::output:: Shortest common superstring.\n",
    "    \"\"\"\n",
    "    \n",
    "    if (s1,s2) in memory: # Dynamic programming\n",
    "        return memory[(s1,s2)] \n",
    "    \n",
    "    if (s2, s1) in memory: \n",
    "        return memory[(s2,s1)]\n",
    "           \n",
    "    \n",
    "    if s1 == \"\": # Base call for recursion\n",
    "        return s2\n",
    "    \n",
    "    elif s2 == \"\": \n",
    "        return s1\n",
    "    \n",
    "    else: \n",
    "        \n",
    "        if s1[0] == s2[0]:\n",
    "            memory[(s1,s2)] = s1[0] + ShortestSuperstring(s1[1::], s2[1::], memory)\n",
    "            return memory[(s1,s2)]\n",
    "        \n",
    "        else: \n",
    "            memory[(s1,s2)] = min((s1[0] + ShortestSuperstring(s1[1::], s2)), (s2[0] + ShortestSuperstring(s1, s2[1::])), key= len)\n",
    "            return memory[(s1,s2)]"
   ]
  },
  {
   "cell_type": "markdown",
   "id": "835a5ed3",
   "metadata": {},
   "source": [
    "### Second Step: Storing all the combination"
   ]
  },
  {
   "cell_type": "code",
   "execution_count": 29,
   "id": "4d398440",
   "metadata": {},
   "outputs": [],
   "source": [
    "def SSSHelper(subsequences, dico = {}): \n",
    "    \"\"\" This function is used to store all the combination in a dictionnary. data are arranged as {(s1,s2): shortest_s1_s2}.\n",
    "        ::param:: subsequences is a list of sequences (e.g., DNA)\n",
    "        ::param:: dico is the cache of the function.\n",
    "    \"\"\"\n",
    "    for i in range(len(subsequences)):   \n",
    "        \n",
    "        for j in range(i+1, len(subsequences)):\n",
    "            \n",
    "            if subsequences[i] != subsequences[j]: # Or create a function that will remove duplicate in the list CHOICE\n",
    "        \n",
    "                if (subsequences[i], subsequences[j]) and (subsequences[j], subsequences[i]) not in dico: \n",
    "                    \n",
    "                    dico[(subsequences[i], subsequences[j])] = ShortestSuperstring(subsequences[i], subsequences[j])\n",
    "                   \n",
    "    return dico"
   ]
  },
  {
   "cell_type": "markdown",
   "id": "8ff3f345",
   "metadata": {},
   "source": [
    "### Third step: Find the best combination"
   ]
  },
  {
   "cell_type": "markdown",
   "id": "1831768a",
   "metadata": {},
   "source": [
    "The trick here to find the best combination is to find the combination in which the difference between the two concatenated string (i.e., the sum of their length) and the length of their superstring is the highest possible. This means that compared to their parent strings, the superstring is the shortest possible. "
   ]
  },
  {
   "cell_type": "code",
   "execution_count": 31,
   "id": "24c8864a",
   "metadata": {},
   "outputs": [],
   "source": [
    "def BestSuperString(dico):\n",
    "    \"\"\" This function is used to find the best superstring (i.e., the one that is the shortest comparing the concatenation\n",
    "        of its parent strings).\n",
    "        ::param:: dico is a dictionnary that stores every possible combianation and their superstring.\n",
    "        ::output:: return the best superstring and its parent strings.\n",
    "    \"\"\"\n",
    "    \n",
    "    best_string = ''\n",
    "    strings = []\n",
    "    maxscore = 0\n",
    "    \n",
    "    for el in dico: \n",
    "        \n",
    "        if len(el[0]) + len(el[1]) - len(dico[el]) > maxscore: \n",
    "            best_string = dico[el]\n",
    "            strings = [el[0], el[1]]\n",
    "            maxscore = len(el[0]) + len(el[1]) - len(dico[el])\n",
    "        \n",
    "    \n",
    "    return best_string, strings"
   ]
  },
  {
   "cell_type": "markdown",
   "id": "85e6c189",
   "metadata": {},
   "source": [
    "### Fourth step: SSS function"
   ]
  },
  {
   "cell_type": "code",
   "execution_count": 159,
   "id": "fd9322f5",
   "metadata": {},
   "outputs": [],
   "source": [
    "def clear_duplicates(subsequences):\n",
    "    \"\"\" This function could be usefull if we decide to remove duplicates from the initial list (i.e., we do not consider duplicates as\n",
    "        different sequences).\n",
    "        ::param:: list of subsequences.\n",
    "        ::output:: list of subsequences without duplicates.\n",
    "    \"\"\"\n",
    "    \n",
    "    cache = {}\n",
    "    \n",
    "    for el in subsequences:\n",
    "        if el not in cache:\n",
    "            cache[el] = \"\"\n",
    "    \n",
    "    return list(cache.keys()) \n",
    "        \n",
    "        "
   ]
  },
  {
   "cell_type": "code",
   "execution_count": 50,
   "id": "7116d495",
   "metadata": {},
   "outputs": [],
   "source": [
    "def any_in(i,j):\n",
    "    \"\"\" This function is used to check if any element in i is found in j.\n",
    "    \"\"\"\n",
    "    \n",
    "    for el in i:\n",
    "        if el in j: \n",
    "            return True\n",
    "    return False"
   ]
  },
  {
   "cell_type": "code",
   "execution_count": 140,
   "id": "d225c4de",
   "metadata": {},
   "outputs": [],
   "source": [
    "def SSS(subsequences): \n",
    "    \"\"\" The function takes a list of sequences and returns the shortest common superstring among all the combination.\n",
    "        ::output:: the shortest common superstring.\n",
    "    \"\"\"\n",
    "    dico = SSSHelper(subsequences, dico = {}) # First generation of the combinations\n",
    "    best_string = '' # Fix the error of referenced before assignement for plotting\n",
    "    while len(subsequences)> 1: # When a last superstring is left\n",
    "        \n",
    "        best_string, strings = BestSuperString(dico)\n",
    "        subsequences.remove(strings[0])\n",
    "        subsequences.remove(strings[1])\n",
    "        subsequences.append(best_string)\n",
    "        \n",
    "        element_to_delete = [key for key in dico if any_in(strings, key)]\n",
    "        for k in element_to_delete: del dico[k] # Remove everything that has been already calculated\n",
    "        \n",
    "        dico = SSSHelper(subsequences, dico)\n",
    "    \n",
    "    return best_string"
   ]
  },
  {
   "cell_type": "markdown",
   "id": "85f09645",
   "metadata": {},
   "source": [
    "## Question 2: What is the runtime of SSS function"
   ]
  },
  {
   "cell_type": "markdown",
   "id": "9e076387",
   "metadata": {},
   "source": [
    "The runtime of the SSS function can be deduced as following :  \n",
    "\n",
    "| Function            | Time Complexity | Justification|\n",
    "| :-------------------|:---------------:|:---------------:|\n",
    "| ShortestSuperstring |  $O(n)$         | The function will recurse until the length n of 1 string is reached. |\n",
    "| SSShelper           | $O(k^2 n)$      | The function will loop 2 times over the length of the sequence list k,  times the ShortestSuperString.|  \n",
    "| BestSuperstring     | $O(s)$           | The function will loop through the length s of the dictionnary.|\n",
    "| SSS                 | $O(?)$           | The function will loop k-1 times, removing el from a list takes k times, appending takes $O(1)$, the first for loop takes $O(s)$, the second for loop will depend on the element to delete wich are the binary combination containing one of the strings which is $C^n_k$ + $C^n_k$ - $C^n_{k-2}$ - 1 (duplicate combination of the two strings)."
   ]
  },
  {
   "cell_type": "code",
   "execution_count": 97,
   "id": "1d233a32",
   "metadata": {},
   "outputs": [],
   "source": [
    "import timeit\n",
    "import matplotlib.pyplot as plt\n",
    "import time\n",
    "import random"
   ]
  },
  {
   "cell_type": "code",
   "execution_count": 160,
   "id": "95c890ea",
   "metadata": {},
   "outputs": [],
   "source": [
    "def randSubstring(S,k):\n",
    "    \"\"\" This function is used to generate a random substring of length k from an original string S. The idea is to generate\n",
    "        random number which will be sorted and given as position to take the letter from the original string.\n",
    "        ::param:: S is the orignal string.\n",
    "        ::param:: k is the length of the substring.\n",
    "        ::output:: a random substring of the original string S.\n",
    "    \"\"\"\n",
    "    sequence = []\n",
    "    substring = \"\"\n",
    "    \n",
    "    while len(sequence) != k:\n",
    "        a =random.randint(0, len(S)-1)        \n",
    "        if a not in sequence:\n",
    "            sequence.append(a)        \n",
    "    sequence.sort()\n",
    "    \n",
    "    for el in sequence: \n",
    "        substring += S[el]\n",
    "    return substring"
   ]
  },
  {
   "cell_type": "code",
   "execution_count": 135,
   "id": "0b1cb526",
   "metadata": {},
   "outputs": [],
   "source": [
    "def plotruntimeNfixed(f,n, k, trials, figsize = [5,5]):\n",
    "    \"\"\"\n",
    "    The function plots de runtime for the folding function.\n",
    "    ::param:: f is the function used in the statement of the timeit function.\n",
    "    ::param:: x is the desired parameter to check (samplelen, samples number, originalstring len). \n",
    "    ::param:: maxvalue is the maximum desired value to test (e.g., sample length, original string length, number of samples)\n",
    "    ::param:: trials is the number of time the function will be called for a parameter value. The value will be averaged.\n",
    "    ::figsize:: figsize is desired plot size.\n",
    "    \"\"\"\n",
    "    \n",
    "    times=[]\n",
    "    originalstring_length=[]\n",
    "    samples_number = []\n",
    "           \n",
    "    S=\"\".join(random.choice(\"atgc\") for i in range(40))\n",
    "        \n",
    "    for i in range(1, k):\n",
    "        T = [randSubstring(S, n) for i in range(i)]\n",
    "        time = timeit.timeit(stmt= lambda:f(T), number=trials)/trials\n",
    "        times.append(time)\n",
    "        samples_number.append(i)\n",
    "    \n",
    "\n",
    "    fig,ax = plt.subplots(figsize= figsize)\n",
    "    ax.set_ylabel(\"Runtime [s]\")\n",
    "    ax.plot(samples_number, times, 'g')\n",
    "    ax.set_xlabel(\"Samples number\")\n",
    "    plt.title('Runtime in function of the sample number.')"
   ]
  },
  {
   "cell_type": "code",
   "execution_count": 136,
   "id": "8fcdaf5e",
   "metadata": {},
   "outputs": [
    {
     "data": {
      "image/png": "[encoded data removed]",
      "text/plain": [
       "<Figure size 360x360 with 1 Axes>"
      ]
     },
     "metadata": {
      "needs_background": "light"
     },
     "output_type": "display_data"
    }
   ],
   "source": [
    "plotruntimeNfixed(SSS, n=10, k=30, trials=4)"
   ]
  },
  {
   "cell_type": "markdown",
   "id": "9b2f62ca",
   "metadata": {},
   "source": [
    "We can observe that whenever plotting the runtime when the number of samples is increasing, the curve is quadratic."
   ]
  },
  {
   "cell_type": "code",
   "execution_count": 121,
   "id": "755e083f",
   "metadata": {},
   "outputs": [],
   "source": [
    "def plotruntimekfixed(f,n, k, trials, figsize = [5,5]):\n",
    "    \"\"\"\n",
    "    The function plots de runtime for the folding function.\n",
    "    ::param:: f is the function used in the statement of the timeit function.\n",
    "    ::param:: x is the desired parameter to check (samplelen, samples number, originalstring len). \n",
    "    ::param:: maxvalue is the maximum desired value to test (e.g., sample length, original string length, number of samples)\n",
    "    ::param:: trials is the number of time the function will be called for a parameter value. The value will be averaged.\n",
    "    ::figsize:: figsize is desired plot size.\n",
    "    \"\"\"\n",
    "    \n",
    "    times=[]\n",
    "    originalstring_length=[]\n",
    "    samples_number = []\n",
    "           \n",
    "    S=\"\".join(random.choice(\"atgc\") for i in range(40))\n",
    "        \n",
    "    for i in range(1, n):\n",
    "        T = [randSubstring(S, n) for i in range(k)]\n",
    "        time = timeit.timeit(stmt= lambda:f(T), number=trials)/trials\n",
    "        times.append(time)\n",
    "        samples_number.append(i)\n",
    "    \n",
    "\n",
    "    fig,ax = plt.subplots(figsize= figsize)\n",
    "    ax.set_ylabel(\"Runtime [s]\")\n",
    "    ax.plot(samples_number, times, 'g')\n",
    "    ax.set_xlabel(\"Samples length\")\n",
    "    plt.title('Runtime in function of the sample length.')"
   ]
  },
  {
   "cell_type": "code",
   "execution_count": 134,
   "id": "241f7e58",
   "metadata": {},
   "outputs": [
    {
     "data": {
      "image/png": "[encoded data removed]",
      "text/plain": [
       "<Figure size 360x360 with 1 Axes>"
      ]
     },
     "metadata": {
      "needs_background": "light"
     },
     "output_type": "display_data"
    }
   ],
   "source": [
    "plotruntimekfixed(SSS, n=39, k=20, trials=20)"
   ]
  },
  {
   "cell_type": "markdown",
   "id": "9eaf21ad",
   "metadata": {},
   "source": [
    "Here again, we can observe when the length of the sample is increasing(i.e., approaching the len of the orignal sequence), the runtime is decreasing. This shows that less computation is needed as we are approaching the real sequence length. Indeed, a subsequence of length x of an original string of len x, is the original string itself."
   ]
  },
  {
   "cell_type": "markdown",
   "id": "005a914e",
   "metadata": {},
   "source": [
    "## Question 3: Random Substring"
   ]
  },
  {
   "cell_type": "code",
   "execution_count": 155,
   "id": "ccf5e1e9",
   "metadata": {},
   "outputs": [
    {
     "name": "stdout",
     "output_type": "stream",
     "text": [
      "Original string:  gcgacatagt\n",
      "\n",
      "substrings : ['gcatat', 'gcaagt', 'cgacag', 'gcgaat', 'gactgt', 'cgactg', 'ggactg', 'cgaaat', 'cgacta', 'ggacat']\n",
      "\n",
      "The shortest common superstring: gcgaactagt\n",
      "Shortest common superstring length:  10\n"
     ]
    }
   ],
   "source": [
    "stringlen=10\n",
    "samplelen=6\n",
    "samples=10\n",
    "\n",
    "S=\"\".join(random.choice(\"atgc\") for i in range(stringlen))\n",
    "print(\"Original string: \",S)\n",
    "print(\"\")\n",
    "T=[randSubstring(S,samplelen) for i in range(samples)]\n",
    "print('substrings :', T)\n",
    "print(\"\")\n",
    "\n",
    "best_superstring = SSS(T)\n",
    "print(\"The shortest common superstring:\", best_superstring)\n",
    "print(\"Shortest common superstring length: \", len(best_superstring))\n",
    "\n"
   ]
  },
  {
   "cell_type": "markdown",
   "id": "5f1ebe3f",
   "metadata": {},
   "source": [
    "## Question 4"
   ]
  },
  {
   "cell_type": "markdown",
   "id": "072ce855",
   "metadata": {},
   "source": [
    "<b> Is the length of the shortest common superstring of k strings of length n always k(n−s)+s,\n",
    "where s is the length of longest common substring of these k strings? Argue why this is true\n",
    "or provide a counterexample</b>"
   ]
  },
  {
   "cell_type": "markdown",
   "id": "6fdc7b45",
   "metadata": {},
   "source": [
    "I found this assumption as false, as I found a counterexample: "
   ]
  },
  {
   "cell_type": "markdown",
   "id": "62aaa1d3",
   "metadata": {},
   "source": [
    "Strings = ['ATG', 'TGC', 'CGA']\n",
    "\n",
    "k = 3  \n",
    "n = 3  \n",
    "s = 2  \n",
    "\n",
    "shortest_superstring = 'CGATGC'   \n",
    "length = 6   \n",
    "formula = 3*(3-2)+2 = 5"
   ]
  },
  {
   "cell_type": "markdown",
   "id": "c9b473d5",
   "metadata": {},
   "source": [
    "Here, I provided a counterexample to the formula."
   ]
  }
 ],
 "metadata": {
  "kernelspec": {
   "display_name": "Python 3",
   "language": "python",
   "name": "python3"
  },
  "language_info": {
   "codemirror_mode": {
    "name": "ipython",
    "version": 3
   },
   "file_extension": ".py",
   "mimetype": "text/x-python",
   "name": "python",
   "nbconvert_exporter": "python",
   "pygments_lexer": "ipython3",
   "version": "3.8.8"
  }
 },
 "nbformat": 4,
 "nbformat_minor": 5
}
